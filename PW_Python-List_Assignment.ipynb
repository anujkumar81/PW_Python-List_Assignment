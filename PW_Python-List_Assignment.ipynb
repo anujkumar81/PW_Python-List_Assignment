{
 "cells": [
  {
   "cell_type": "code",
   "execution_count": 1,
   "id": "2b46b51e-2708-4800-b4e4-f3633164e239",
   "metadata": {},
   "outputs": [],
   "source": [
    "#Q1. Create an empty list.\n",
    "#answer\n",
    "empty_list = []\n"
   ]
  },
  {
   "cell_type": "code",
   "execution_count": 2,
   "id": "3d5f8dc5-f192-4e80-a3dc-5e880ff6c0dc",
   "metadata": {},
   "outputs": [
    {
     "name": "stdout",
     "output_type": "stream",
     "text": [
      "[1, 2, 3, 4, 5]\n"
     ]
    }
   ],
   "source": [
    "#Q2. Create a list and add an element to the end of this list.\n",
    "#answer\n",
    "# Create a list\n",
    "my_list = [1, 2, 3, 4]\n",
    "\n",
    "# Add an element to the end of the list\n",
    "my_list.append(5)\n",
    "\n",
    "# Print the updated list\n",
    "print(my_list)\n"
   ]
  },
  {
   "cell_type": "code",
   "execution_count": 3,
   "id": "826b04b4-2ef4-4d14-9ef8-ca91a83fd955",
   "metadata": {},
   "outputs": [
    {
     "name": "stdout",
     "output_type": "stream",
     "text": [
      "Last element: 5\n"
     ]
    }
   ],
   "source": [
    "#Q3. For the above created list print the last element.\n",
    "#ANSWER\n",
    "# Print the above element of the list\n",
    "print(\"Last element:\", my_list[-1])\n"
   ]
  },
  {
   "cell_type": "code",
   "execution_count": 5,
   "id": "35d4e74e-e0fb-408e-9f81-dab3983fa02a",
   "metadata": {},
   "outputs": [
    {
     "name": "stdout",
     "output_type": "stream",
     "text": [
      "Reversed list: [5, 4, 3, 2, 1]\n"
     ]
    }
   ],
   "source": [
    "#Q4. Reverse the above created list.\n",
    "#Answer\n",
    "# Reverse the list using the reverse() method\n",
    "my_list.reverse()\n",
    "\n",
    "# Print the reversed list\n",
    "print(\"Reversed list:\", my_list)\n"
   ]
  },
  {
   "cell_type": "code",
   "execution_count": 7,
   "id": "2c8c82f5-9ef0-497e-9a93-10a6755d6242",
   "metadata": {},
   "outputs": [
    {
     "name": "stdout",
     "output_type": "stream",
     "text": [
      "Sorted list: [1, 2, 3, 4, 5]\n"
     ]
    }
   ],
   "source": [
    "# Q5. Sort the above created list.\n",
    "# Answer\n",
    "\n",
    "#Using the sort() method:\n",
    "# Sort the list in place using the sort() method\n",
    "my_list.sort()\n",
    "\n",
    "# Print the sorted list\n",
    "print(\"Sorted list:\", my_list)\n"
   ]
  },
  {
   "cell_type": "code",
   "execution_count": 12,
   "id": "883c60e4-20a1-42a0-86d0-e91d37704e34",
   "metadata": {},
   "outputs": [
    {
     "name": "stdout",
     "output_type": "stream",
     "text": [
      "Title of the second movie: The Godfather\n",
      "Title of the second movie: The Dark Knight\n",
      "Title of the second movie: The Shawshank Redemption\n"
     ]
    }
   ],
   "source": [
    "#Q6. Create a list of your top three favorite movies, then print the second movie title.\n",
    "#ANSWER\n",
    "\n",
    "# Create a list of top three favorite movies\n",
    "favorite_movies = [\"The Shawshank Redemption\", \"The Godfather\", \"The Dark Knight\"]\n",
    "\n",
    "# Print the title of the second movie\n",
    "print(\"Title of the second movie:\", favorite_movies[1])\n",
    "print(\"Title of the second movie:\", favorite_movies[2])\n",
    "print(\"Title of the second movie:\", favorite_movies[0])"
   ]
  },
  {
   "cell_type": "code",
   "execution_count": 13,
   "id": "76c555b8-d8ea-4109-a1d5-68cc62080d5a",
   "metadata": {},
   "outputs": [
    {
     "name": "stdout",
     "output_type": "stream",
     "text": [
      "Updated list of favorite animals: ['Dog', 'Cat', 'Elephant', 'Penguin']\n"
     ]
    }
   ],
   "source": [
    "# Q7. Create a list of your favorite animals, then add a new animal to the list and print the updated list.\n",
    "#Answer\n",
    "\n",
    "# Create a list of favorite animals\n",
    "favorite_animals = [\"Dog\", \"Cat\", \"Elephant\"]\n",
    "\n",
    "# Add a new animal to the list\n",
    "favorite_animals.append(\"Penguin\")\n",
    "\n",
    "# Print the updated list\n",
    "print(\"Updated list of favorite animals:\", favorite_animals)\n"
   ]
  },
  {
   "cell_type": "code",
   "execution_count": 14,
   "id": "aae29e69-ea05-4cf4-9131-8720ab974b0a",
   "metadata": {},
   "outputs": [
    {
     "name": "stdout",
     "output_type": "stream",
     "text": [
      "Position of 'Tokyo' in the list: 2\n"
     ]
    }
   ],
   "source": [
    "'''Q8. Create a list of your favorite cities, then use the index() method to find the position of a specific city\n",
    "on the list and print it.'''\n",
    "#Answer:\n",
    "\n",
    "# Create a list of favorite cities\n",
    "favorite_cities = [\"Paris\", \"New York\", \"Tokyo\", \"London\", \"Sydney\"]\n",
    "\n",
    "# Find the position of the city \"Tokyo\" using the index() method\n",
    "city_position = favorite_cities.index(\"Tokyo\")\n",
    "\n",
    "# Print the position of the city \"Tokyo\"\n",
    "print(\"Position of 'Tokyo' in the list:\", city_position)\n"
   ]
  },
  {
   "cell_type": "code",
   "execution_count": null,
   "id": "e273472c-8b32-486a-afd5-38da3aa707f5",
   "metadata": {},
   "outputs": [],
   "source": []
  }
 ],
 "metadata": {
  "kernelspec": {
   "display_name": "Python 3 (ipykernel)",
   "language": "python",
   "name": "python3"
  },
  "language_info": {
   "codemirror_mode": {
    "name": "ipython",
    "version": 3
   },
   "file_extension": ".py",
   "mimetype": "text/x-python",
   "name": "python",
   "nbconvert_exporter": "python",
   "pygments_lexer": "ipython3",
   "version": "3.10.8"
  }
 },
 "nbformat": 4,
 "nbformat_minor": 5
}
